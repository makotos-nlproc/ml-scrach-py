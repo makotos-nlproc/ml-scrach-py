{
 "metadata": {
  "language_info": {
   "codemirror_mode": {
    "name": "ipython",
    "version": 3
   },
   "file_extension": ".py",
   "mimetype": "text/x-python",
   "name": "python",
   "nbconvert_exporter": "python",
   "pygments_lexer": "ipython3",
   "version": "3.8.5-final"
  },
  "orig_nbformat": 2,
  "kernelspec": {
   "name": "python_defaultSpec_1600665456109",
   "display_name": "Python 3.8.5 64-bit ('ml-scrach-py': conda)"
  }
 },
 "nbformat": 4,
 "nbformat_minor": 2,
 "cells": [
  {
   "cell_type": "code",
   "execution_count": 2,
   "metadata": {},
   "outputs": [],
   "source": [
    "import numpy as np"
   ]
  },
  {
   "source": [
    "# 2. Python入門\n",
    "- 負の数によるスライスは（リストの長さ－その数）のインデックス\n",
    "- `np.argsort`は昇順にソートしたときのインデックスのndarrayを返す\n",
    "  - 降順で欲しいときは`np.argsort()[::-1]`\n",
    "- `np.unique`は重複を除き、昇順にソートしたndarrayを返す\n",
    "- `np.where`は条件を満たす要素のインデックスのndarrayを返す\n",
    "- `np.concatenate`は軸を指定してndarrayの結合\n",
    "- `np.tile(ndarray, repeatする軸を指定するリスト)`で指定したndarrayを指定回数繰り返したndarrayを作成できる"
   ],
   "cell_type": "markdown",
   "metadata": {}
  },
  {
   "cell_type": "code",
   "execution_count": 7,
   "metadata": {},
   "outputs": [
    {
     "output_type": "execute_result",
     "data": {
      "text/plain": "array([[120],\n       [180],\n       [300],\n       [150]])"
     },
     "metadata": {},
     "execution_count": 7
    }
   ],
   "source": [
    "prices = np.array([120, 180, 300, 150])\n",
    "np.expand_dims(prices, axis=1)"
   ]
  },
  {
   "cell_type": "code",
   "execution_count": null,
   "metadata": {},
   "outputs": [],
   "source": []
  }
 ]
}